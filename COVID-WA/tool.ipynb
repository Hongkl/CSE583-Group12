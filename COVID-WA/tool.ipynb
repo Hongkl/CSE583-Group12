{
 "cells": [
  {
   "cell_type": "code",
   "execution_count": null,
   "metadata": {},
   "outputs": [],
   "source": [
    "import pandas as pd\n",
    "months = {'March','April','May','June','July','August','September'}\n",
    "counties = {\"Adams\",\"Asotin\",\"Benton\",\"Chelan\",\"Clallam\",\"Clark\",\"Columbia\",\n",
    "            \"Cowlitz\",\"Douglas\",\"Ferry\",\"Franklin\",\"Garfield\",\"Grant\", \"Grays Harbor\",\n",
    "            \"Island\",\"Jefferson\",\"King\",\"Kitsap\",\"Kittitas\",\"Klickitat\",\"Lewis\",\n",
    "            \"Lincoln\",\"Mason\",\"Okanogan\",\"Pacific\",\"Pend Oreille\",\"Pierce\",\"SanJuan\",\n",
    "            \"Skagit\",\"Skamania\",\"Snohomish\",\"Spokane\",\"Stevens\",\"Thurston\",\"Wahkiakum\",\n",
    "            \"Walla Walla\",\"Whatcom\",\"Whitman\",\"Yakima\"}\n",
    "\n",
    "def unemploy_text_parser(county,month):\n",
    "    if month not in months:\n",
    "        raise ValueError(\"Wrong month value input\")\n",
    "    if county not in county:\n",
    "        raise ValueError(\"Wrong county value input\")\n",
    "    data = pd.read_csv(\"../data/Unemployed/Unemployment.csv\")\n",
    "    countyName = county + \" \" + \"County\" \n",
    "    searchCounty = data[data['County Name/State Abbr'] == countyName]# Here should insert an exceptioncatch, if we don't have a dic\n",
    "    searchFinal = searchCounty[searchCounty['Period'] == month] # Here should insert an exceptioncatch\n",
    "    text = \"County Name: \" + searchFinal['County Name/State Abbr'].item()+'     '\\\n",
    "    \"Period: \" + searchFinal['Period'].item()+ '     ' \\\n",
    "    \"Unemployment Rate: \" + str(searchFinal['Rate'].item())                 \n",
    "    return text\n",
    "\n",
    "def plot(county): \n",
    "    \n",
    "    covid_data = pd.read_csv(\"../data/COVID19/COVID19-Rate and Unemployment.csv\")\n",
    "    df_covid=pd.DataFrame(covid_data.loc[covid_data['County']== county, ['March', 'April','May','June','July','August','September']].T)\n",
    "    df_unemployment=pd.DataFrame(covid_data.loc[covid_data['County']== county, ['March_umemployment', 'April_umemployment','May_umemployment','June_umemployment','July_umemployment','August_umemployment','Septembe_umemployment']].T) \n",
    "    df_unemployment.rename({'March_umemployment': 'March'},axis = 'index',inplace = True)\n",
    "    df_unemployment.rename({'April_umemployment': 'April'},axis = 'index',inplace = True)\n",
    "    df_unemployment.rename({'May_umemployment': 'May'},axis = 'index',inplace = True)\n",
    "    df_unemployment.rename({'June_umemployment': 'June'},axis = 'index',inplace = True)\n",
    "    df_unemployment.rename({'July_umemployment':'July'},axis = 'index',inplace = True)\n",
    "    df_unemployment.rename({'August_umemployment': 'August'},axis = 'index',inplace = True)\n",
    "    df_unemployment.rename({'Septembe_umemployment':'September'},axis = 'index',inplace = True)\n",
    "    \n",
    "    df_covid.plot(title = county + ' infection rate', xlabel = 'Month', ylabel ='Rate %')\n",
    "    df_unemployment.plot(title = county + ' unemployment rate', xlabel = 'Month', ylabel ='Rate %')"
   ]
  }
 ],
 "metadata": {
  "kernelspec": {
   "display_name": "Python 3",
   "language": "python",
   "name": "python3"
  },
  "language_info": {
   "codemirror_mode": {
    "name": "ipython",
    "version": 3
   },
   "file_extension": ".py",
   "mimetype": "text/x-python",
   "name": "python",
   "nbconvert_exporter": "python",
   "pygments_lexer": "ipython3",
   "version": "3.8.3"
  }
 },
 "nbformat": 4,
 "nbformat_minor": 4
}
